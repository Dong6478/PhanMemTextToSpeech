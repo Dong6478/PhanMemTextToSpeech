{
 "cells": [
  {
   "cell_type": "code",
   "execution_count": 5,
   "metadata": {},
   "outputs": [
    {
     "name": "stdout",
     "output_type": "stream",
     "text": [
      "Serial Number: 50026B738042FCD6\n"
     ]
    }
   ],
   "source": [
    "import subprocess\n",
    "\n",
    "def get_hard_drive_id():\n",
    "    # Chạy lệnh WMIC để lấy thông tin về ổ cứng\n",
    "    result = subprocess.check_output(['wmic', 'diskdrive', 'get', 'SerialNumber']).decode()\n",
    "    \n",
    "    # Chia kết quả thành các dòng và loại bỏ dòng đầu tiên (tiêu đề)\n",
    "    lines = result.strip().split('\\n')\n",
    "    lines = lines[1:]\n",
    "\n",
    "    # Lọc và loại bỏ khoảng trắng thừa\n",
    "    serial_numbers = [line.strip() for line in lines if line.strip()]\n",
    "\n",
    "    return serial_numbers\n",
    "\n",
    "# Gọi hàm và in kết quả\n",
    "serial_numbers = get_hard_drive_id()\n",
    "print(\"Serial Number:\", serial_numbers[0])\n",
    "    \n"
   ]
  }
 ],
 "metadata": {
  "kernelspec": {
   "display_name": "Python 3",
   "language": "python",
   "name": "python3"
  },
  "language_info": {
   "codemirror_mode": {
    "name": "ipython",
    "version": 3
   },
   "file_extension": ".py",
   "mimetype": "text/x-python",
   "name": "python",
   "nbconvert_exporter": "python",
   "pygments_lexer": "ipython3",
   "version": "3.10.11"
  }
 },
 "nbformat": 4,
 "nbformat_minor": 2
}
